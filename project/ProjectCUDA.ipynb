{
  "nbformat": 4,
  "nbformat_minor": 0,
  "metadata": {
    "colab": {
      "provenance": [],
      "gpuType": "T4",
      "toc_visible": true
    },
    "kernelspec": {
      "name": "python3",
      "display_name": "Python 3"
    },
    "language_info": {
      "name": "python"
    },
    "accelerator": "GPU"
  },
  "cells": [
    {
      "cell_type": "code",
      "source": [
        "!lscpu"
      ],
      "metadata": {
        "id": "38X-ZkMbxLEE"
      },
      "execution_count": null,
      "outputs": []
    },
    {
      "cell_type": "code",
      "execution_count": null,
      "metadata": {
        "colab": {
          "base_uri": "https://localhost:8080/"
        },
        "id": "t8QnTGD-ifiE",
        "outputId": "b0fc9865-8d4e-4bc7-c260-1c9bb9c2f51a"
      },
      "outputs": [
        {
          "output_type": "stream",
          "name": "stdout",
          "text": [
            "Linux 8abd1bed502a 6.1.85+ #1 SMP PREEMPT_DYNAMIC Thu Jun 27 21:05:47 UTC 2024 x86_64 x86_64 x86_64 GNU/Linux\n",
            "DISTRIB_ID=Ubuntu\n",
            "DISTRIB_RELEASE=22.04\n",
            "DISTRIB_CODENAME=jammy\n",
            "DISTRIB_DESCRIPTION=\"Ubuntu 22.04.3 LTS\"\n",
            "PRETTY_NAME=\"Ubuntu 22.04.3 LTS\"\n",
            "NAME=\"Ubuntu\"\n",
            "VERSION_ID=\"22.04\"\n",
            "VERSION=\"22.04.3 LTS (Jammy Jellyfish)\"\n",
            "VERSION_CODENAME=jammy\n",
            "ID=ubuntu\n",
            "ID_LIKE=debian\n",
            "HOME_URL=\"https://www.ubuntu.com/\"\n",
            "SUPPORT_URL=\"https://help.ubuntu.com/\"\n",
            "BUG_REPORT_URL=\"https://bugs.launchpad.net/ubuntu/\"\n",
            "PRIVACY_POLICY_URL=\"https://www.ubuntu.com/legal/terms-and-policies/privacy-policy\"\n",
            "UBUNTU_CODENAME=jammy\n"
          ]
        }
      ],
      "source": [
        "!uname -a && cat /etc/*release"
      ]
    },
    {
      "cell_type": "code",
      "source": [
        "!pwd\n",
        "!ls -la"
      ],
      "metadata": {
        "colab": {
          "base_uri": "https://localhost:8080/"
        },
        "id": "0RSxDC6LiwR2",
        "outputId": "3520bee0-5ab0-4ab5-a5a8-e74d07566f44"
      },
      "execution_count": null,
      "outputs": [
        {
          "output_type": "stream",
          "name": "stdout",
          "text": [
            "/content\n",
            "total 32\n",
            "drwxr-xr-x 1 root root  4096 Nov 23 10:24 .\n",
            "drwxr-xr-x 1 root root  4096 Nov 23 10:23 ..\n",
            "drwxr-xr-x 4 root root  4096 Nov 21 14:25 .config\n",
            "-rw-r--r-- 1 root root 14196 Nov 23 10:24 devicequery.zip\n",
            "drwxr-xr-x 1 root root  4096 Nov 21 14:25 sample_data\n"
          ]
        }
      ]
    },
    {
      "cell_type": "code",
      "source": [
        "!nvidia-smi"
      ],
      "metadata": {
        "colab": {
          "base_uri": "https://localhost:8080/"
        },
        "id": "07P9-HQYiy0Q",
        "outputId": "dcb1e2bd-df06-415f-9c61-8ca36eab4e28"
      },
      "execution_count": null,
      "outputs": [
        {
          "output_type": "stream",
          "name": "stdout",
          "text": [
            "Sat Nov 23 10:24:38 2024       \n",
            "+---------------------------------------------------------------------------------------+\n",
            "| NVIDIA-SMI 535.104.05             Driver Version: 535.104.05   CUDA Version: 12.2     |\n",
            "|-----------------------------------------+----------------------+----------------------+\n",
            "| GPU  Name                 Persistence-M | Bus-Id        Disp.A | Volatile Uncorr. ECC |\n",
            "| Fan  Temp   Perf          Pwr:Usage/Cap |         Memory-Usage | GPU-Util  Compute M. |\n",
            "|                                         |                      |               MIG M. |\n",
            "|=========================================+======================+======================|\n",
            "|   0  Tesla T4                       Off | 00000000:00:04.0 Off |                    0 |\n",
            "| N/A   62C    P8              11W /  70W |      0MiB / 15360MiB |      0%      Default |\n",
            "|                                         |                      |                  N/A |\n",
            "+-----------------------------------------+----------------------+----------------------+\n",
            "                                                                                         \n",
            "+---------------------------------------------------------------------------------------+\n",
            "| Processes:                                                                            |\n",
            "|  GPU   GI   CI        PID   Type   Process name                            GPU Memory |\n",
            "|        ID   ID                                                             Usage      |\n",
            "|=======================================================================================|\n",
            "|  No running processes found                                                           |\n",
            "+---------------------------------------------------------------------------------------+\n"
          ]
        }
      ]
    },
    {
      "cell_type": "code",
      "source": [
        "!unzip devicequery.zip"
      ],
      "metadata": {
        "colab": {
          "base_uri": "https://localhost:8080/"
        },
        "id": "ETryFAcji0Vm",
        "outputId": "4dfb5d76-ee5e-4796-ac47-14394a2fce04"
      },
      "execution_count": null,
      "outputs": [
        {
          "output_type": "stream",
          "name": "stdout",
          "text": [
            "Archive:  devicequery.zip\n",
            "  inflating: devicequery.cu          \n",
            "  inflating: helper_cuda.h           \n",
            "  inflating: helper_string.h         \n"
          ]
        }
      ]
    },
    {
      "cell_type": "code",
      "source": [
        "!nvcc devicequery.cu -o devicequery"
      ],
      "metadata": {
        "id": "CkV0bmUWi6w9"
      },
      "execution_count": null,
      "outputs": []
    },
    {
      "cell_type": "code",
      "source": [
        "!/content/devicequery"
      ],
      "metadata": {
        "colab": {
          "base_uri": "https://localhost:8080/"
        },
        "id": "ncIE_P3WjM1z",
        "outputId": "f93c8116-7c73-4238-fa10-5ced1207ceb3"
      },
      "execution_count": null,
      "outputs": [
        {
          "output_type": "stream",
          "name": "stdout",
          "text": [
            "/content/devicequery Starting...\n",
            "\n",
            " CUDA Device Query (Runtime API) version (CUDART static linking)\n",
            "\n",
            "Detected 1 CUDA Capable device(s)\n",
            "\n",
            "Device 0: \"Tesla T4\"\n",
            "  CUDA Driver Version / Runtime Version          12.2 / 12.2\n",
            "  CUDA Capability Major/Minor version number:    7.5\n",
            "  Total amount of global memory:                 15102 MBytes (15835660288 bytes)\n",
            "  (040) Multiprocessors, (064) CUDA Cores/MP:    2560 CUDA Cores\n",
            "  GPU Max Clock rate:                            1590 MHz (1.59 GHz)\n",
            "  Memory Clock rate:                             5001 Mhz\n",
            "  Memory Bus Width:                              256-bit\n",
            "  L2 Cache Size:                                 4194304 bytes\n",
            "  Maximum Texture Dimension Size (x,y,z)         1D=(131072), 2D=(131072, 65536), 3D=(16384, 16384, 16384)\n",
            "  Maximum Layered 1D Texture Size, (num) layers  1D=(32768), 2048 layers\n",
            "  Maximum Layered 2D Texture Size, (num) layers  2D=(32768, 32768), 2048 layers\n",
            "  Total amount of constant memory:               65536 bytes\n",
            "  Total amount of shared memory per block:       49152 bytes\n",
            "  Total shared memory per multiprocessor:        65536 bytes\n",
            "  Total number of registers available per block: 65536\n",
            "  Warp size:                                     32\n",
            "  Maximum number of threads per multiprocessor:  1024\n",
            "  Maximum number of threads per block:           1024\n",
            "  Max dimension size of a thread block (x,y,z): (1024, 1024, 64)\n",
            "  Max dimension size of a grid size    (x,y,z): (2147483647, 65535, 65535)\n",
            "  Maximum memory pitch:                          2147483647 bytes\n",
            "  Texture alignment:                             512 bytes\n",
            "  Concurrent copy and kernel execution:          Yes with 3 copy engine(s)\n",
            "  Run time limit on kernels:                     No\n",
            "  Integrated GPU sharing Host Memory:            No\n",
            "  Support host page-locked memory mapping:       Yes\n",
            "  Alignment requirement for Surfaces:            Yes\n",
            "  Device has ECC support:                        Enabled\n",
            "  Device supports Unified Addressing (UVA):      Yes\n",
            "  Device supports Managed Memory:                Yes\n",
            "  Device supports Compute Preemption:            Yes\n",
            "  Supports Cooperative Kernel Launch:            Yes\n",
            "  Supports MultiDevice Co-op Kernel Launch:      Yes\n",
            "  Device PCI Domain ID / Bus ID / location ID:   0 / 0 / 4\n",
            "  Compute Mode:\n",
            "     < Default (multiple host threads can use ::cudaSetDevice() with device simultaneously) >\n",
            "\n",
            "deviceQuery, CUDA Driver = CUDART, CUDA Driver Version = 12.2, CUDA Runtime Version = 12.2, NumDevs = 1\n",
            "Result = PASS\n"
          ]
        }
      ]
    },
    {
      "cell_type": "markdown",
      "source": [
        "## Cuda"
      ],
      "metadata": {
        "id": "c3mH-KheLQXl"
      }
    },
    {
      "cell_type": "code",
      "source": [
        "code=r'''#include <iostream>\n",
        "#include <fstream>\n",
        "#include <complex>\n",
        "#include <chrono>\n",
        "#include <omp.h>\n",
        "\n",
        "#ifdef __NVCC__\n",
        "#include <cuda.h>\n",
        "#include <cuda/std/complex>\n",
        "#endif\n",
        "\n",
        "// Ranges of the set\n",
        "#ifndef MIN_X\n",
        "#define MIN_X -2\n",
        "#endif\n",
        "#ifndef MAX_X\n",
        "#define MAX_X 1\n",
        "#endif\n",
        "#ifndef MIN_Y\n",
        "#define MIN_Y -1\n",
        "#endif\n",
        "#ifndef MAX_Y\n",
        "#define MAX_Y 1\n",
        "#endif\n",
        "\n",
        "// Image ratio\n",
        "#define RATIO_X (MAX_X - MIN_X)\n",
        "#define RATIO_Y (MAX_Y - MIN_Y)\n",
        "\n",
        "// Image size\n",
        "#ifndef RESOLUTION\n",
        "#define RESOLUTION 1000\n",
        "#endif\n",
        "#define WIDTH (RATIO_X * RESOLUTION)\n",
        "#define HEIGHT (RATIO_Y * RESOLUTION)\n",
        "\n",
        "#define STEP ((double)RATIO_X / WIDTH)\n",
        "\n",
        "#ifndef DEGREE\n",
        "#define DEGREE 2        // Degree of the polynomial\n",
        "#endif\n",
        "#ifndef ITERATIONS\n",
        "#define ITERATIONS 1000 // Maximum number of iterations\n",
        "#endif\n",
        "\n",
        "#ifndef BLOCK_SIZE\n",
        "#define BLOCK_SIZE 16\n",
        "#endif\n",
        "\n",
        "using namespace std;\n",
        "\n",
        "#ifdef __NVCC__\n",
        "\n",
        "__global__ void kernel(int* image)\n",
        "{\n",
        "  int pos = threadIdx.x + blockIdx.x * blockDim.x;\n",
        "\n",
        "  if(pos > WIDTH*HEIGHT) return;\n",
        "\n",
        "  // evaluate derivatives\n",
        "\n",
        "  image[pos] = 0;\n",
        "\n",
        "  const int row = pos / WIDTH;\n",
        "  const int col = pos % WIDTH;\n",
        "  const cuda::std::complex<double> c(col * STEP + MIN_X, row * STEP + MIN_Y);\n",
        "\n",
        "  // z = z^2 + c\n",
        "  cuda::std::complex<double> z(0, 0);\n",
        "  for (int i = 1; i <= ITERATIONS; i++)\n",
        "  {\n",
        "      z = cuda::std::pow(z, DEGREE) + c;\n",
        "\n",
        "      // If it is convergent\n",
        "      if (cuda::std::abs(z) >= 2)\n",
        "      {\n",
        "          image[pos] = i;\n",
        "          break;\n",
        "      }\n",
        "  }\n",
        "\n",
        "}\n",
        "\n",
        "#endif\n",
        "\n",
        "int main(int argc, char **argv)\n",
        "{\n",
        "    int *const image = new int[HEIGHT * WIDTH];\n",
        "\n",
        "    // const auto start = chrono::steady_clock::now();\n",
        "    const auto start = omp_get_wtime();\n",
        "\n",
        "    #ifdef __NVCC__\n",
        "\n",
        "    const int size=WIDTH*HEIGHT;\n",
        "\n",
        "    int *image_dev;\n",
        "\n",
        "    cudaMalloc((void**) &image_dev, size);\n",
        "\n",
        "    cudaMemcpy(image_dev, image, size, cudaMemcpyHostToDevice);\n",
        "\n",
        "    dim3 block_size(BLOCK_SIZE);\n",
        "    dim3 grid_size = dim3((size - 1) / BLOCK_SIZE + 1);\n",
        "\n",
        "    // Execute the modified version using same data\n",
        "    kernel<<<grid_size, block_size>>>(image_dev);\n",
        "    cudaMemcpy(image, image_dev, size, cudaMemcpyDeviceToHost);\n",
        "\n",
        "    cudaDeviceSynchronize();\n",
        "\n",
        "    #else\n",
        "\n",
        "    #ifdef OMP\n",
        "    # pragma omp parallel for default(none) shared(image)\n",
        "    #endif\n",
        "    for (int pos = 0; pos < HEIGHT * WIDTH; pos++)\n",
        "    {\n",
        "        image[pos] = 0;\n",
        "\n",
        "        const int row = pos / WIDTH;\n",
        "        const int col = pos % WIDTH;\n",
        "        const complex<double> c(col * STEP + MIN_X, row * STEP + MIN_Y);\n",
        "\n",
        "        // z = z^2 + c\n",
        "        complex<double> z(0, 0);\n",
        "        for (int i = 1; i <= ITERATIONS; i++)\n",
        "        {\n",
        "            z = pow(z, DEGREE) + c;\n",
        "\n",
        "            // If it is convergent\n",
        "            if (abs(z) >= 2)\n",
        "            {\n",
        "                image[pos] = i;\n",
        "                break;\n",
        "            }\n",
        "        }\n",
        "    }\n",
        "\n",
        "    #endif\n",
        "    // const auto end = chrono::steady_clock::now();\n",
        "    const auto end = omp_get_wtime();\n",
        "    // cout << \"Time elapsed: \"\n",
        "    //      << chrono::duration_cast<chrono::seconds>(end - start).count()\n",
        "    //      << \" seconds.\" << endl;\n",
        "    cout << \"Time elapsed: \" << (end-start) << \" seconds.\" << endl;\n",
        "\n",
        "    // Write the result to a file\n",
        "    ofstream matrix_out;\n",
        "\n",
        "    if (argc < 2)\n",
        "    {\n",
        "        cout << \"Please specify the output file as a parameter.\" << endl;\n",
        "        return -1;\n",
        "    }\n",
        "\n",
        "    matrix_out.open(argv[1], ios::trunc);\n",
        "    if (!matrix_out.is_open())\n",
        "    {\n",
        "        cout << \"Unable to open file.\" << endl;\n",
        "        return -2;\n",
        "    }\n",
        "\n",
        "    for (int row = 0; row < HEIGHT; row++)\n",
        "    {\n",
        "        for (int col = 0; col < WIDTH; col++)\n",
        "        {\n",
        "            matrix_out << image[row * WIDTH + col];\n",
        "\n",
        "            if (col < WIDTH - 1)\n",
        "                matrix_out << ',';\n",
        "        }\n",
        "        if (row < HEIGHT - 1)\n",
        "            matrix_out << endl;\n",
        "    }\n",
        "    matrix_out.close();\n",
        "\n",
        "    delete[] image; // It's here for coding style, but useless\n",
        "    #ifdef __NVCC__\n",
        "    cudaFree(image_dev);\n",
        "    #endif\n",
        "    return 0;\n",
        "}\n",
        "'''\n",
        "with open('assignment.cpp', 'w') as f:\n",
        "  f.write(code)\n"
      ],
      "metadata": {
        "id": "LQXTlUYXSV6u"
      },
      "execution_count": 1,
      "outputs": []
    },
    {
      "cell_type": "code",
      "source": [
        "!g++ -O3 -ffast-math -fopenmp assignment.cpp -o assignment -DITERATIONS=10000 && /content/assignment /dev/null"
      ],
      "metadata": {
        "colab": {
          "base_uri": "https://localhost:8080/"
        },
        "id": "xlZ51uhkdj4X",
        "outputId": "4f372052-e0ed-49c7-d5e6-34cae2fe2721"
      },
      "execution_count": null,
      "outputs": [
        {
          "output_type": "stream",
          "name": "stdout",
          "text": [
            "Time elapsed: 73.6822 seconds.\n"
          ]
        }
      ]
    },
    {
      "cell_type": "code",
      "source": [
        "!nvcc -x cu assignment.cpp -o assignment -Xcompiler -fopenmp -DITERATIONS=10000 -DBLOCK_SIZE=16 && /content/assignment /dev/null"
      ],
      "metadata": {
        "colab": {
          "base_uri": "https://localhost:8080/"
        },
        "id": "p18gKfIYfDf2",
        "outputId": "0e13c31a-1c22-4cbc-c751-a8b93cfbe1cc"
      },
      "execution_count": null,
      "outputs": [
        {
          "output_type": "stream",
          "name": "stdout",
          "text": [
            "Time elapsed: 10.522 seconds.\n"
          ]
        }
      ]
    },
    {
      "cell_type": "code",
      "source": [
        "from os import system\n",
        "from subprocess import check_output,check_call,run,PIPE\n",
        "\n",
        "N=[32,64,128,256,512,1024]\n",
        "\n",
        "for n in N:\n",
        "  SIZE=6*10**6\n",
        "  ITERATIONS=70000\n",
        "  block_size=n\n",
        "  grid_size=(SIZE-1)//block_size+1\n",
        "  #print(f\"{i=} {block_size=}\")\n",
        "  print(f\"{n=} <<<{grid_size},{block_size}>>>\")\n",
        "  process=run(f\"nvcc -x cu assignment.cpp -o assignment -Xcompiler -fopenmp -DITERATIONS={ITERATIONS} -DBLOCK_SIZE={block_size} && /content/assignment /dev/null\",shell=True,text=True,stdout=PIPE,stderr=PIPE)\n",
        "  if process.returncode!=0:\n",
        "    print(process.stdout,process.stderr)\n",
        "    break\n",
        "  print(process.stdout)"
      ],
      "metadata": {
        "colab": {
          "base_uri": "https://localhost:8080/"
        },
        "id": "94C5uB6Qh7hd",
        "outputId": "ecb7d1f6-cb15-473f-fa08-dec9df6b0acb"
      },
      "execution_count": 2,
      "outputs": [
        {
          "output_type": "stream",
          "name": "stdout",
          "text": [
            "n=32 <<<187500,32>>>\n",
            "Time elapsed: 35.8263 seconds.\n",
            "\n",
            "n=64 <<<93750,64>>>\n",
            "Time elapsed: 34.8702 seconds.\n",
            "\n",
            "n=128 <<<46875,128>>>\n",
            "Time elapsed: 34.8608 seconds.\n",
            "\n",
            "n=256 <<<23438,256>>>\n",
            "Time elapsed: 34.9985 seconds.\n",
            "\n",
            "n=512 <<<11719,512>>>\n",
            "Time elapsed: 35.2746 seconds.\n",
            "\n",
            "n=1024 <<<5860,1024>>>\n",
            "Time elapsed: 35.8884 seconds.\n",
            "\n"
          ]
        }
      ]
    }
  ]
}